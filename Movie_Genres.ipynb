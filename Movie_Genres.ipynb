{
  "nbformat": 4,
  "nbformat_minor": 0,
  "metadata": {
    "colab": {
      "name": "Movie_Genres.ipynb",
      "version": "0.3.2",
      "provenance": [],
      "collapsed_sections": []
    },
    "kernelspec": {
      "name": "python3",
      "display_name": "Python 3"
    },
    "accelerator": "GPU"
  },
  "cells": [
    {
      "metadata": {
        "id": "VmyheXVs5w_z",
        "colab_type": "text"
      },
      "cell_type": "markdown",
      "source": [
        "## Let's start with the imports"
      ]
    },
    {
      "metadata": {
        "id": "mz-fZ_6e41Ah",
        "colab_type": "code",
        "outputId": "1b542cfc-2dc6-4d7c-a4b2-63ceb0f6a797",
        "colab": {
          "base_uri": "https://localhost:8080/",
          "height": 309
        }
      },
      "cell_type": "code",
      "source": [
        "import os\n",
        "import numpy as np\n",
        "import pandas as pd\n",
        "import tensorflow as tf\n",
        "import tensorflow_hub as hub\n",
        "import json\n",
        "import pickle\n",
        "import urllib\n",
        "\n",
        "from sklearn.preprocessing import MultiLabelBinarizer\n",
        "\n",
        "print(tf.__version__)\n",
        "\n",
        "# Download the data from GCS\n",
        "!wget 'https://storage.googleapis.com/movies_data/movies_metadata.csv'\n",
        "\n",
        "top_genres = ['Comedy', 'Thriller', 'Romance', 'Action', 'Horror', 'Crime', 'Documentary', 'Adventure', 'Science Fiction']\n",
        "\n",
        "data = pd.read_csv('movies_metadata.csv')\n"
      ],
      "execution_count": 0,
      "outputs": [
        {
          "output_type": "stream",
          "text": [
            "WARNING: Logging before flag parsing goes to stderr.\n",
            "W0406 03:50:26.303824 140571099002752 __init__.py:56] Some hub symbols are not available because TensorFlow version is less than 1.14\n"
          ],
          "name": "stderr"
        },
        {
          "output_type": "stream",
          "text": [
            "1.13.1\n",
            "--2019-04-06 03:50:27--  https://storage.googleapis.com/movies_data/movies_metadata.csv\n",
            "Resolving storage.googleapis.com (storage.googleapis.com)... 74.125.141.128, 2607:f8b0:400c:c06::80\n",
            "Connecting to storage.googleapis.com (storage.googleapis.com)|74.125.141.128|:443... connected.\n",
            "HTTP request sent, awaiting response... 200 OK\n",
            "Length: 34445126 (33M) [application/octet-stream]\n",
            "Saving to: ‘movies_metadata.csv.2’\n",
            "\n",
            "movies_metadata.csv 100%[===================>]  32.85M   134MB/s    in 0.2s    \n",
            "\n",
            "2019-04-06 03:50:27 (134 MB/s) - ‘movies_metadata.csv.2’ saved [34445126/34445126]\n",
            "\n"
          ],
          "name": "stdout"
        },
        {
          "output_type": "stream",
          "text": [
            "/usr/local/lib/python3.6/dist-packages/IPython/core/interactiveshell.py:2718: DtypeWarning: Columns (10) have mixed types. Specify dtype option on import or set low_memory=False.\n",
            "  interactivity=interactivity, compiler=compiler, result=result)\n"
          ],
          "name": "stderr"
        }
      ]
    },
    {
      "metadata": {
        "id": "xp2kodSRKEq6",
        "colab_type": "code",
        "outputId": "172d4c61-53ca-488b-a867-a7b2fb699347",
        "colab": {
          "base_uri": "https://localhost:8080/",
          "height": 514
        }
      },
      "cell_type": "code",
      "source": [
        "print('Total number of movies: ',len(data))\n",
        "print('total number of NaN in the column genres : ',data['genres'].isnull().sum())\n",
        "print('total number of NaN in the column overview : ',data['overview'].isnull().sum())\n",
        "\n",
        "# Remove the missing values\n",
        "missing_idx = data[data['overview'].isnull()==True].index\n",
        "dat = data.drop(missing_idx)\n",
        "dat = dat.reset_index(drop=True)\n",
        "\n",
        "dat = dat[:2500] # subset like this for example\n",
        "dat.head(3)"
      ],
      "execution_count": 0,
      "outputs": [
        {
          "output_type": "stream",
          "text": [
            "Total number of movies:  45466\n",
            "total number of NaN in the column genres :  0\n",
            "total number of NaN in the column overview :  954\n"
          ],
          "name": "stdout"
        },
        {
          "output_type": "execute_result",
          "data": {
            "text/html": [
              "<div>\n",
              "<style scoped>\n",
              "    .dataframe tbody tr th:only-of-type {\n",
              "        vertical-align: middle;\n",
              "    }\n",
              "\n",
              "    .dataframe tbody tr th {\n",
              "        vertical-align: top;\n",
              "    }\n",
              "\n",
              "    .dataframe thead th {\n",
              "        text-align: right;\n",
              "    }\n",
              "</style>\n",
              "<table border=\"1\" class=\"dataframe\">\n",
              "  <thead>\n",
              "    <tr style=\"text-align: right;\">\n",
              "      <th></th>\n",
              "      <th>adult</th>\n",
              "      <th>belongs_to_collection</th>\n",
              "      <th>budget</th>\n",
              "      <th>genres</th>\n",
              "      <th>homepage</th>\n",
              "      <th>id</th>\n",
              "      <th>imdb_id</th>\n",
              "      <th>original_language</th>\n",
              "      <th>original_title</th>\n",
              "      <th>overview</th>\n",
              "      <th>...</th>\n",
              "      <th>release_date</th>\n",
              "      <th>revenue</th>\n",
              "      <th>runtime</th>\n",
              "      <th>spoken_languages</th>\n",
              "      <th>status</th>\n",
              "      <th>tagline</th>\n",
              "      <th>title</th>\n",
              "      <th>video</th>\n",
              "      <th>vote_average</th>\n",
              "      <th>vote_count</th>\n",
              "    </tr>\n",
              "  </thead>\n",
              "  <tbody>\n",
              "    <tr>\n",
              "      <th>0</th>\n",
              "      <td>False</td>\n",
              "      <td>{'id': 10194, 'name': 'Toy Story Collection', ...</td>\n",
              "      <td>30000000</td>\n",
              "      <td>[{'id': 16, 'name': 'Animation'}, {'id': 35, '...</td>\n",
              "      <td>http://toystory.disney.com/toy-story</td>\n",
              "      <td>862</td>\n",
              "      <td>tt0114709</td>\n",
              "      <td>en</td>\n",
              "      <td>Toy Story</td>\n",
              "      <td>Led by Woody, Andy's toys live happily in his ...</td>\n",
              "      <td>...</td>\n",
              "      <td>1995-10-30</td>\n",
              "      <td>373554033.0</td>\n",
              "      <td>81.0</td>\n",
              "      <td>[{'iso_639_1': 'en', 'name': 'English'}]</td>\n",
              "      <td>Released</td>\n",
              "      <td>NaN</td>\n",
              "      <td>Toy Story</td>\n",
              "      <td>False</td>\n",
              "      <td>7.7</td>\n",
              "      <td>5415.0</td>\n",
              "    </tr>\n",
              "    <tr>\n",
              "      <th>1</th>\n",
              "      <td>False</td>\n",
              "      <td>NaN</td>\n",
              "      <td>65000000</td>\n",
              "      <td>[{'id': 12, 'name': 'Adventure'}, {'id': 14, '...</td>\n",
              "      <td>NaN</td>\n",
              "      <td>8844</td>\n",
              "      <td>tt0113497</td>\n",
              "      <td>en</td>\n",
              "      <td>Jumanji</td>\n",
              "      <td>When siblings Judy and Peter discover an encha...</td>\n",
              "      <td>...</td>\n",
              "      <td>1995-12-15</td>\n",
              "      <td>262797249.0</td>\n",
              "      <td>104.0</td>\n",
              "      <td>[{'iso_639_1': 'en', 'name': 'English'}, {'iso...</td>\n",
              "      <td>Released</td>\n",
              "      <td>Roll the dice and unleash the excitement!</td>\n",
              "      <td>Jumanji</td>\n",
              "      <td>False</td>\n",
              "      <td>6.9</td>\n",
              "      <td>2413.0</td>\n",
              "    </tr>\n",
              "    <tr>\n",
              "      <th>2</th>\n",
              "      <td>False</td>\n",
              "      <td>{'id': 119050, 'name': 'Grumpy Old Men Collect...</td>\n",
              "      <td>0</td>\n",
              "      <td>[{'id': 10749, 'name': 'Romance'}, {'id': 35, ...</td>\n",
              "      <td>NaN</td>\n",
              "      <td>15602</td>\n",
              "      <td>tt0113228</td>\n",
              "      <td>en</td>\n",
              "      <td>Grumpier Old Men</td>\n",
              "      <td>A family wedding reignites the ancient feud be...</td>\n",
              "      <td>...</td>\n",
              "      <td>1995-12-22</td>\n",
              "      <td>0.0</td>\n",
              "      <td>101.0</td>\n",
              "      <td>[{'iso_639_1': 'en', 'name': 'English'}]</td>\n",
              "      <td>Released</td>\n",
              "      <td>Still Yelling. Still Fighting. Still Ready for...</td>\n",
              "      <td>Grumpier Old Men</td>\n",
              "      <td>False</td>\n",
              "      <td>6.5</td>\n",
              "      <td>92.0</td>\n",
              "    </tr>\n",
              "  </tbody>\n",
              "</table>\n",
              "<p>3 rows × 24 columns</p>\n",
              "</div>"
            ],
            "text/plain": [
              "   adult                              belongs_to_collection    budget  \\\n",
              "0  False  {'id': 10194, 'name': 'Toy Story Collection', ...  30000000   \n",
              "1  False                                                NaN  65000000   \n",
              "2  False  {'id': 119050, 'name': 'Grumpy Old Men Collect...         0   \n",
              "\n",
              "                                              genres  \\\n",
              "0  [{'id': 16, 'name': 'Animation'}, {'id': 35, '...   \n",
              "1  [{'id': 12, 'name': 'Adventure'}, {'id': 14, '...   \n",
              "2  [{'id': 10749, 'name': 'Romance'}, {'id': 35, ...   \n",
              "\n",
              "                               homepage     id    imdb_id original_language  \\\n",
              "0  http://toystory.disney.com/toy-story    862  tt0114709                en   \n",
              "1                                   NaN   8844  tt0113497                en   \n",
              "2                                   NaN  15602  tt0113228                en   \n",
              "\n",
              "     original_title                                           overview  \\\n",
              "0         Toy Story  Led by Woody, Andy's toys live happily in his ...   \n",
              "1           Jumanji  When siblings Judy and Peter discover an encha...   \n",
              "2  Grumpier Old Men  A family wedding reignites the ancient feud be...   \n",
              "\n",
              "     ...     release_date      revenue runtime  \\\n",
              "0    ...       1995-10-30  373554033.0    81.0   \n",
              "1    ...       1995-12-15  262797249.0   104.0   \n",
              "2    ...       1995-12-22          0.0   101.0   \n",
              "\n",
              "                                    spoken_languages    status  \\\n",
              "0           [{'iso_639_1': 'en', 'name': 'English'}]  Released   \n",
              "1  [{'iso_639_1': 'en', 'name': 'English'}, {'iso...  Released   \n",
              "2           [{'iso_639_1': 'en', 'name': 'English'}]  Released   \n",
              "\n",
              "                                             tagline             title  video  \\\n",
              "0                                                NaN         Toy Story  False   \n",
              "1          Roll the dice and unleash the excitement!           Jumanji  False   \n",
              "2  Still Yelling. Still Fighting. Still Ready for...  Grumpier Old Men  False   \n",
              "\n",
              "  vote_average vote_count  \n",
              "0          7.7     5415.0  \n",
              "1          6.9     2413.0  \n",
              "2          6.5       92.0  \n",
              "\n",
              "[3 rows x 24 columns]"
            ]
          },
          "metadata": {
            "tags": []
          },
          "execution_count": 2
        }
      ]
    },
    {
      "metadata": {
        "id": "mb0YeiYiNT4G",
        "colab_type": "text"
      },
      "cell_type": "markdown",
      "source": [
        "## Data Preparation"
      ]
    },
    {
      "metadata": {
        "id": "XcUMPo-FJf0o",
        "colab_type": "text"
      },
      "cell_type": "markdown",
      "source": [
        "A sample of 2500 movies is selected from the original dataset. It seems that each movie could have more than one genres. We would want to check out the genres we have and reorganize them to be the target variable we could use for the prediction."
      ]
    },
    {
      "metadata": {
        "id": "dypRlkoqTmL8",
        "colab_type": "code",
        "colab": {}
      },
      "cell_type": "code",
      "source": [
        "genres = dat['genres']\n",
        "movies_genres = []\n",
        "\n",
        "for i in range(len(dat['genres'])):\n",
        "    a = genres[i].split(\"'name': \")\n",
        "    a_genres = []\n",
        "    if len(a) > 2:\n",
        "        for j in range(len(a)-1):\n",
        "            a_genres.append(a[j+1].split('},')[0].split(\"'\")[1])\n",
        "    elif len(a) == 2:\n",
        "        a_genres.append(a[1].split('},')[0].split(\"'\")[1])\n",
        "    elif len(a) == 1:\n",
        "        a_genres.append('')\n",
        "    movies_genres.append(a_genres)"
      ],
      "execution_count": 0,
      "outputs": []
    },
    {
      "metadata": {
        "id": "rayTm9tMcLox",
        "colab_type": "code",
        "outputId": "7e40d1de-ff56-4b27-dad9-8bc3dd9ac898",
        "colab": {
          "base_uri": "https://localhost:8080/",
          "height": 111
        }
      },
      "cell_type": "code",
      "source": [
        "# Build a new dataframe used for the model\n",
        "new_dat_dict = {'genres':movies_genres,'summary':dat['overview'].values}\n",
        "new_dat = pd.DataFrame(new_dat_dict)\n",
        "new_dat.head(2)"
      ],
      "execution_count": 0,
      "outputs": [
        {
          "output_type": "execute_result",
          "data": {
            "text/html": [
              "<div>\n",
              "<style scoped>\n",
              "    .dataframe tbody tr th:only-of-type {\n",
              "        vertical-align: middle;\n",
              "    }\n",
              "\n",
              "    .dataframe tbody tr th {\n",
              "        vertical-align: top;\n",
              "    }\n",
              "\n",
              "    .dataframe thead th {\n",
              "        text-align: right;\n",
              "    }\n",
              "</style>\n",
              "<table border=\"1\" class=\"dataframe\">\n",
              "  <thead>\n",
              "    <tr style=\"text-align: right;\">\n",
              "      <th></th>\n",
              "      <th>genres</th>\n",
              "      <th>summary</th>\n",
              "    </tr>\n",
              "  </thead>\n",
              "  <tbody>\n",
              "    <tr>\n",
              "      <th>0</th>\n",
              "      <td>[Animation, Comedy, Family]</td>\n",
              "      <td>Led by Woody, Andy's toys live happily in his ...</td>\n",
              "    </tr>\n",
              "    <tr>\n",
              "      <th>1</th>\n",
              "      <td>[Adventure, Fantasy, Family]</td>\n",
              "      <td>When siblings Judy and Peter discover an encha...</td>\n",
              "    </tr>\n",
              "  </tbody>\n",
              "</table>\n",
              "</div>"
            ],
            "text/plain": [
              "                         genres  \\\n",
              "0   [Animation, Comedy, Family]   \n",
              "1  [Adventure, Fantasy, Family]   \n",
              "\n",
              "                                             summary  \n",
              "0  Led by Woody, Andy's toys live happily in his ...  \n",
              "1  When siblings Judy and Peter discover an encha...  "
            ]
          },
          "metadata": {
            "tags": []
          },
          "execution_count": 4
        }
      ]
    },
    {
      "metadata": {
        "id": "UMmywIwzZOEX",
        "colab_type": "code",
        "outputId": "3658b756-2346-4c8f-ec5c-d9a8ffc5a98e",
        "colab": {
          "base_uri": "https://localhost:8080/",
          "height": 34
        }
      },
      "cell_type": "code",
      "source": [
        "# The index of the movie with empty genre\n",
        "empty_idx = [i for i,gen in enumerate(movies_genres) if gen[0]=='']\n",
        "modified_genres = []\n",
        "print('Number of Empty genre index: ',len(empty_idx))\n",
        "new_dat = new_dat.drop(empty_idx)\n",
        "new_dat = new_dat.reset_index(drop=True)"
      ],
      "execution_count": 0,
      "outputs": [
        {
          "output_type": "stream",
          "text": [
            "Number of Empty genre index:  62\n"
          ],
          "name": "stdout"
        }
      ]
    },
    {
      "metadata": {
        "id": "S7vSLdJ9W9mu",
        "colab_type": "code",
        "outputId": "8f611652-bd87-4a0a-cc0e-15fd639a34ec",
        "colab": {
          "base_uri": "https://localhost:8080/",
          "height": 54
        }
      },
      "cell_type": "code",
      "source": [
        "movies_genres = list(new_dat['genres'].values)\n",
        "# Flatten all the genres and find out the unique genres of the movies we choose\n",
        "def flatten(list):\n",
        "    for i in list:\n",
        "        for j in i:\n",
        "            yield j\n",
        "all_genres = list(flatten(movies_genres))\n",
        "\n",
        "# The unique genres of our selected sample\n",
        "print(set(all_genres))"
      ],
      "execution_count": 0,
      "outputs": [
        {
          "output_type": "stream",
          "text": [
            "{'Horror', 'Documentary', 'Crime', 'Drama', 'Science Fiction', 'Animation', 'Mystery', 'Foreign', 'Action', 'Thriller', 'Music', 'Adventure', 'Romance', 'Western', 'History', 'Comedy', 'Fantasy', 'TV Movie', 'Family', 'War'}\n"
          ],
          "name": "stdout"
        }
      ]
    },
    {
      "metadata": {
        "id": "E4WswXG_fEq6",
        "colab_type": "text"
      },
      "cell_type": "markdown",
      "source": [
        "Now, how to select the genres we want to use for the prediction task? There are two ways. The first one is to check the correlation of the occurency among the genres assigned for these movies. And then, we could combine the genres with high occurence correlations into a new genre. However, here to save the time, I would just use the Top genres provided here for the prediction task.\n",
        "\n",
        "We could take a look at a heat map for the occurence of each genres (Some genres would appear together for one movie)."
      ]
    },
    {
      "metadata": {
        "id": "bRTQdpkMeRpg",
        "colab_type": "code",
        "outputId": "d81cadd4-42e3-4a38-fcf9-0634b386636e",
        "colab": {
          "base_uri": "https://localhost:8080/",
          "height": 422
        }
      },
      "cell_type": "code",
      "source": [
        "import seaborn as sns\n",
        "\n",
        "# Transfer the genres to the ids\n",
        "all_genres_list = list(set(all_genres))\n",
        "id_set = [i for i,t in enumerate(all_genres_list)]\n",
        "heat_matrix = np.zeros((len(id_set), len(id_set)))\n",
        "\n",
        "# Add up the heat map matrix\n",
        "for a1 in movies_genres:\n",
        "    id = []\n",
        "    for a2 in a1:\n",
        "        id.append(all_genres_list.index(a2))\n",
        "    for i in id:\n",
        "        for j in id:\n",
        "            heat_matrix[i,j] = heat_matrix[i,j]+1\n",
        "\n",
        "# Heat map\n",
        "sns.heatmap(heat_matrix, xticklabels=all_genres_list, yticklabels=all_genres_list)"
      ],
      "execution_count": 0,
      "outputs": [
        {
          "output_type": "execute_result",
          "data": {
            "text/plain": [
              "<matplotlib.axes._subplots.AxesSubplot at 0x7fd8d15a02b0>"
            ]
          },
          "metadata": {
            "tags": []
          },
          "execution_count": 7
        },
        {
          "output_type": "display_data",
          "data": {
            "image/png": "[encoded data removed]",
            "text/plain": [
              "<Figure size 576x396 with 2 Axes>"
            ]
          },
          "metadata": {
            "tags": []
          }
        }
      ]
    },
    {
      "metadata": {
        "id": "BLXincsti4cC",
        "colab_type": "text"
      },
      "cell_type": "markdown",
      "source": [
        "Let's modify the dataset again to keep the movies we want for the training based on the top genres we set."
      ]
    },
    {
      "metadata": {
        "id": "xe-lxu-0jwNE",
        "colab_type": "code",
        "colab": {}
      },
      "cell_type": "code",
      "source": [
        "# Select the movies with only one genre matching the Top genres we set\n",
        "new_genres = []\n",
        "\n",
        "for gens in movies_genres:\n",
        "    new_gen = [a for a in gens if a in top_genres]\n",
        "    new_genres.append(new_gen)\n",
        "    \n",
        "one_idx = [i for i,t in enumerate(new_genres) if len(t)==1 and t is not '']\n",
        "one_genre = [t[0] for i,t in enumerate(new_genres) if len(t)==1 and t is not '']"
      ],
      "execution_count": 0,
      "outputs": []
    },
    {
      "metadata": {
        "id": "lFPf0LYsQrkz",
        "colab_type": "text"
      },
      "cell_type": "markdown",
      "source": [
        "939 movies are selected here for the model building to do the prediction. The target would only have one genre. Limited to the time here, I would only deal with such a simple target response variable."
      ]
    },
    {
      "metadata": {
        "id": "e3S9gU8FMYjn",
        "colab_type": "code",
        "outputId": "f42ba2a2-b5e3-4fe9-8ed4-9bf5956aee04",
        "colab": {
          "base_uri": "https://localhost:8080/",
          "height": 213
        }
      },
      "cell_type": "code",
      "source": [
        "# Add the Target Genre into the dataframe\n",
        "select_movies = new_dat.iloc[one_idx,:]\n",
        "select_movies['Target Genre'] = one_genre\n",
        "select_movies.head(2)"
      ],
      "execution_count": 0,
      "outputs": [
        {
          "output_type": "stream",
          "text": [
            "/usr/local/lib/python3.6/dist-packages/ipykernel_launcher.py:2: SettingWithCopyWarning: \n",
            "A value is trying to be set on a copy of a slice from a DataFrame.\n",
            "Try using .loc[row_indexer,col_indexer] = value instead\n",
            "\n",
            "See the caveats in the documentation: http://pandas.pydata.org/pandas-docs/stable/indexing.html#indexing-view-versus-copy\n",
            "  \n"
          ],
          "name": "stderr"
        },
        {
          "output_type": "execute_result",
          "data": {
            "text/html": [
              "<div>\n",
              "<style scoped>\n",
              "    .dataframe tbody tr th:only-of-type {\n",
              "        vertical-align: middle;\n",
              "    }\n",
              "\n",
              "    .dataframe tbody tr th {\n",
              "        vertical-align: top;\n",
              "    }\n",
              "\n",
              "    .dataframe thead th {\n",
              "        text-align: right;\n",
              "    }\n",
              "</style>\n",
              "<table border=\"1\" class=\"dataframe\">\n",
              "  <thead>\n",
              "    <tr style=\"text-align: right;\">\n",
              "      <th></th>\n",
              "      <th>genres</th>\n",
              "      <th>summary</th>\n",
              "      <th>Target Genre</th>\n",
              "    </tr>\n",
              "  </thead>\n",
              "  <tbody>\n",
              "    <tr>\n",
              "      <th>0</th>\n",
              "      <td>[Animation, Comedy, Family]</td>\n",
              "      <td>Led by Woody, Andy's toys live happily in his ...</td>\n",
              "      <td>Comedy</td>\n",
              "    </tr>\n",
              "    <tr>\n",
              "      <th>1</th>\n",
              "      <td>[Adventure, Fantasy, Family]</td>\n",
              "      <td>When siblings Judy and Peter discover an encha...</td>\n",
              "      <td>Adventure</td>\n",
              "    </tr>\n",
              "  </tbody>\n",
              "</table>\n",
              "</div>"
            ],
            "text/plain": [
              "                         genres  \\\n",
              "0   [Animation, Comedy, Family]   \n",
              "1  [Adventure, Fantasy, Family]   \n",
              "\n",
              "                                             summary Target Genre  \n",
              "0  Led by Woody, Andy's toys live happily in his ...       Comedy  \n",
              "1  When siblings Judy and Peter discover an encha...    Adventure  "
            ]
          },
          "metadata": {
            "tags": []
          },
          "execution_count": 9
        }
      ]
    },
    {
      "metadata": {
        "id": "UQRJrG4hNZje",
        "colab_type": "text"
      },
      "cell_type": "markdown",
      "source": [
        "## Text to Numerical Vector"
      ]
    },
    {
      "metadata": {
        "id": "BorEOVgxReHR",
        "colab_type": "text"
      },
      "cell_type": "markdown",
      "source": [
        "Now it is the time to modify the predict variable, whcih is the summary of the movie. The summary of the movie contains short sentences. We need to transfer these sentences into numerical vectors of wrods.\n",
        "\n",
        "To make the texts usable and meaningful, we need to do three steps. The first step is to transfer all the texts into a frequency matrix. Here I just use the naive way, which is the bag of words tech that count the appearing fequency for each word in all the summary sentences. Use the package 'CountVectorizer', we could easily do that. \n",
        "\n",
        "However, not every word is meaningful. So the second step is that we would want get rid of the words that appear too often in all the sentences and the words that appear too seldom (Too unique for each movie, might not be general when we try to train a prediction model). \n",
        "\n",
        "The third step is to give a weight indicating the importance of the word. For the meaningful words, the word appears too often would still be less important, such as 'about', 'for'. They would have a smaller weight. But in the low-frequent words, the word appears more times would be relatively important (indicate some features). We would simply apply 'TfidfTransformer' package to help us assign all the weightage."
      ]
    },
    {
      "metadata": {
        "id": "ODsoK7JmNNHE",
        "colab_type": "code",
        "outputId": "efbb0bc8-36f4-40db-8e30-8e572e745c2c",
        "colab": {
          "base_uri": "https://localhost:8080/",
          "height": 187
        }
      },
      "cell_type": "code",
      "source": [
        "from sklearn.feature_extraction.text import CountVectorizer\n",
        "from sklearn.feature_extraction.text import TfidfTransformer\n",
        "\n",
        "summaries = list(select_movies['summary'].values) # All summary contents\n",
        "vectorize=CountVectorizer(max_df=0.95, min_df=0.005) # Remove words too frequent or too seldom\n",
        "c=vectorize.fit_transform(summaries) # Modified words sparse matrix\n",
        "feature_name = vectorize.get_feature_names() # The words left text\n",
        "c_matrix = c.toarray() # The frequency matrix\n",
        "\n",
        "c_sum = c_matrix.sum(axis=1)\n",
        "sorted_c_sum = -np.sort(-c_sum)\n",
        "# Show the top 10 frequent words and their numbers\n",
        "for i in range(10):\n",
        "    print(feature_name[(-c_sum).argsort()[i]],sorted_c_sum[i])"
      ],
      "execution_count": 0,
      "outputs": [
        {
          "output_type": "stream",
          "text": [
            "leave 132\n",
            "mysterious 124\n",
            "itself 122\n",
            "facing 121\n",
            "release 120\n",
            "escape 118\n",
            "italian 116\n",
            "allen 113\n",
            "eccentric 110\n",
            "open 107\n"
          ],
          "name": "stdout"
        }
      ]
    },
    {
      "metadata": {
        "id": "JcYw4ZWR6aBG",
        "colab_type": "code",
        "outputId": "46931661-200e-495e-bf81-c75f84800196",
        "colab": {
          "base_uri": "https://localhost:8080/",
          "height": 544
        }
      },
      "cell_type": "code",
      "source": [
        "# TFIDF giving the weights\n",
        "tfidf_transformer = TfidfTransformer()\n",
        "c_tfidf = tfidf_transformer.fit_transform(c)\n",
        "c_tfidf.shape\n",
        "# Print the exmaple of the weights of words for the first movie\n",
        "print(c_tfidf[0])"
      ],
      "execution_count": 0,
      "outputs": [
        {
          "output_type": "stream",
          "text": [
            "  (0, 1243)\t0.09309226064272656\n",
            "  (0, 1197)\t0.17547728262393353\n",
            "  (0, 1153)\t0.053004408037103004\n",
            "  (0, 1127)\t0.1968990388407868\n",
            "  (0, 1125)\t0.09217723474207379\n",
            "  (0, 973)\t0.21668648925879927\n",
            "  (0, 956)\t0.21668648925879927\n",
            "  (0, 894)\t0.18403305747464013\n",
            "  (0, 847)\t0.18247310471053643\n",
            "  (0, 822)\t0.19096773627929087\n",
            "  (0, 807)\t0.24079475109754778\n",
            "  (0, 794)\t0.05389957778946743\n",
            "  (0, 680)\t0.22466790471234804\n",
            "  (0, 665)\t0.1695298527335692\n",
            "  (0, 651)\t0.2070945826644906\n",
            "  (0, 647)\t0.20178354550396874\n",
            "  (0, 562)\t0.11768316484717199\n",
            "  (0, 530)\t0.1432548785440303\n",
            "  (0, 512)\t0.21322572510815838\n",
            "  (0, 502)\t0.23466360865388003\n",
            "  (0, 449)\t0.09882123892113999\n",
            "  (0, 368)\t0.18247310471053643\n",
            "  (0, 335)\t0.22935257149335816\n",
            "  (0, 211)\t0.22047732747869384\n",
            "  (0, 168)\t0.09277020465576531\n",
            "  (0, 166)\t0.09882123892113999\n",
            "  (0, 152)\t0.2070945826644906\n",
            "  (0, 135)\t0.23466360865388003\n",
            "  (0, 62)\t0.049342530850189685\n",
            "  (0, 35)\t0.18247310471053643\n",
            "  (0, 30)\t0.24079475109754778\n"
          ],
          "name": "stdout"
        }
      ]
    },
    {
      "metadata": {
        "id": "wkog--ZoNitw",
        "colab_type": "text"
      },
      "cell_type": "markdown",
      "source": [
        "## Statistics Model Training"
      ]
    },
    {
      "metadata": {
        "id": "WV4HPmQyNNZX",
        "colab_type": "code",
        "colab": {}
      },
      "cell_type": "code",
      "source": [
        "from sklearn.model_selection import train_test_split\n",
        "\n",
        "# Split the training and test sets\n",
        "y_gens = select_movies['Target Genre'].values\n",
        "y = [top_genres.index(a) for a in y_gens]\n",
        "X = [i for i in range(len(select_movies))]\n",
        "X_train, X_test, y_train, y_test = train_test_split(X,y,test_size=0.3,random_state=1)\n",
        "\n",
        "c_tfidf_train = c_tfidf[X_train]\n",
        "c_tfidf_test = c_tfidf[X_test]\n",
        "\n",
        "c_train = c[X_train].toarray()\n",
        "c_test = c[X_test].toarray()"
      ],
      "execution_count": 0,
      "outputs": []
    },
    {
      "metadata": {
        "id": "R-pAWUPpjFqz",
        "colab_type": "text"
      },
      "cell_type": "markdown",
      "source": [
        "### Multinomial Naive Bayes"
      ]
    },
    {
      "metadata": {
        "id": "Tjv6X_jWwrif",
        "colab_type": "text"
      },
      "cell_type": "markdown",
      "source": [
        "###Use the frequency matrix to train the model"
      ]
    },
    {
      "metadata": {
        "id": "9cAtrtQYYF3t",
        "colab_type": "code",
        "outputId": "c7aa5c6c-cd2d-4ffe-d76b-bf52a74bd9db",
        "colab": {
          "base_uri": "https://localhost:8080/",
          "height": 122
        }
      },
      "cell_type": "code",
      "source": [
        "from sklearn.model_selection import GridSearchCV\n",
        "from sklearn.naive_bayes import MultinomialNB\n",
        "\n",
        "alpha = np.linspace(1,3,30)\n",
        "clf = GridSearchCV(MultinomialNB(), {'alpha':list(alpha)}, scoring='accuracy')\n",
        "clf.fit(c_train, y_train)\n",
        "\n",
        "nb_train_predict = clf.predict(c_train)\n",
        "nb_test_predict = clf.predict(c_test)\n",
        "\n",
        "train_acc = sum(nb_train_predict==y_train)/len(y_train)\n",
        "test_acc = sum(nb_test_predict==y_test)/len(y_test)\n",
        "\n",
        "print('Training Accuracy: ',train_acc,' Test Accuracy: ',test_acc)"
      ],
      "execution_count": 0,
      "outputs": [
        {
          "output_type": "stream",
          "text": [
            "/usr/local/lib/python3.6/dist-packages/sklearn/model_selection/_split.py:2053: FutureWarning: You should specify a value for 'cv' instead of relying on the default value. The default value will change from 3 to 5 in version 0.22.\n",
            "  warnings.warn(CV_WARNING, FutureWarning)\n"
          ],
          "name": "stderr"
        },
        {
          "output_type": "stream",
          "text": [
            "Training Accuracy:  0.8843226788432268  Test Accuracy:  0.48936170212765956\n"
          ],
          "name": "stdout"
        },
        {
          "output_type": "stream",
          "text": [
            "/usr/local/lib/python3.6/dist-packages/sklearn/model_selection/_search.py:841: DeprecationWarning: The default of the `iid` parameter will change from True to False in version 0.22 and will be removed in 0.24. This will change numeric results when test-set sizes are unequal.\n",
            "  DeprecationWarning)\n"
          ],
          "name": "stderr"
        }
      ]
    },
    {
      "metadata": {
        "id": "Hen-gGPQb0WJ",
        "colab_type": "code",
        "outputId": "e837ed65-0b74-4f92-e789-983d64239199",
        "colab": {
          "base_uri": "https://localhost:8080/",
          "height": 170
        }
      },
      "cell_type": "code",
      "source": [
        "# Show the Accuracy for each genre\n",
        "for i in range(len(top_genres)):\n",
        "    idxs_train = [idx for idx,a in enumerate(y_train) if a==i]\n",
        "    y_train_i = [y_train[idx] for idx in idxs_train]\n",
        "    nb_train_predict_i = [nb_train_predict[idx] for idx in idxs_train]\n",
        "    idxs_test = [idx for idx,a in enumerate(y_test) if a==i]\n",
        "    y_test_i = [y_test[idx] for idx in idxs_test]\n",
        "    nb_test_predict_i = [nb_test_predict[idx] for idx in idxs_test]\n",
        "    print('Number of Genre ',top_genres[i],' is ',len(y_train_i),', Training Accuracy is ',\\\n",
        "          sum(np.array(nb_train_predict_i)==np.array(y_train_i))/len(y_train_i),\\\n",
        "          ', Testing Accuracy is ',sum(np.array(nb_test_predict_i)==np.array(y_test_i))/len(y_test_i))"
      ],
      "execution_count": 0,
      "outputs": [
        {
          "output_type": "stream",
          "text": [
            "Number of Genre  Comedy  is  253 , Training Accuracy is  0.9130434782608695 , Testing Accuracy is  0.6885245901639344\n",
            "Number of Genre  Thriller  is  59 , Training Accuracy is  0.9152542372881356 , Testing Accuracy is  0.23076923076923078\n",
            "Number of Genre  Romance  is  148 , Training Accuracy is  0.9662162162162162 , Testing Accuracy is  0.6206896551724138\n",
            "Number of Genre  Action  is  18 , Training Accuracy is  0.5 , Testing Accuracy is  0.0\n",
            "Number of Genre  Horror  is  35 , Training Accuracy is  0.7142857142857143 , Testing Accuracy is  0.0\n",
            "Number of Genre  Crime  is  38 , Training Accuracy is  0.8421052631578947 , Testing Accuracy is  0.0\n",
            "Number of Genre  Documentary  is  41 , Training Accuracy is  0.9512195121951219 , Testing Accuracy is  0.5\n",
            "Number of Genre  Adventure  is  49 , Training Accuracy is  0.8979591836734694 , Testing Accuracy is  0.13333333333333333\n",
            "Number of Genre  Science Fiction  is  16 , Training Accuracy is  0.25 , Testing Accuracy is  0.0\n"
          ],
          "name": "stdout"
        }
      ]
    },
    {
      "metadata": {
        "id": "W0R_06VJwelo",
        "colab_type": "text"
      },
      "cell_type": "markdown",
      "source": [
        "### Use the weightages to train the model"
      ]
    },
    {
      "metadata": {
        "id": "1o0PO9zawhxt",
        "colab_type": "code",
        "outputId": "b62b1dd9-2e86-49db-bef5-3b85f069e1da",
        "colab": {
          "base_uri": "https://localhost:8080/",
          "height": 122
        }
      },
      "cell_type": "code",
      "source": [
        "alpha = np.linspace(1,3,30)\n",
        "clf = GridSearchCV(MultinomialNB(), {'alpha':list(alpha)}, scoring='accuracy')\n",
        "clf.fit(c_train, y_train)\n",
        "\n",
        "nb_train_predict = clf.predict(c_tfidf_train)\n",
        "nb_test_predict = clf.predict(c_tfidf_test)\n",
        "\n",
        "train_acc = sum(nb_train_predict==y_train)/len(y_train)\n",
        "test_acc = sum(nb_test_predict==y_test)/len(y_test)\n",
        "\n",
        "print('Training Accuracy: ',train_acc,' Test Accuracy: ',test_acc)"
      ],
      "execution_count": 0,
      "outputs": [
        {
          "output_type": "stream",
          "text": [
            "/usr/local/lib/python3.6/dist-packages/sklearn/model_selection/_split.py:2053: FutureWarning: You should specify a value for 'cv' instead of relying on the default value. The default value will change from 3 to 5 in version 0.22.\n",
            "  warnings.warn(CV_WARNING, FutureWarning)\n"
          ],
          "name": "stderr"
        },
        {
          "output_type": "stream",
          "text": [
            "Training Accuracy:  0.8767123287671232  Test Accuracy:  0.4929078014184397\n"
          ],
          "name": "stdout"
        },
        {
          "output_type": "stream",
          "text": [
            "/usr/local/lib/python3.6/dist-packages/sklearn/model_selection/_search.py:841: DeprecationWarning: The default of the `iid` parameter will change from True to False in version 0.22 and will be removed in 0.24. This will change numeric results when test-set sizes are unequal.\n",
            "  DeprecationWarning)\n"
          ],
          "name": "stderr"
        }
      ]
    },
    {
      "metadata": {
        "id": "hypOHK_Kw8LM",
        "colab_type": "code",
        "outputId": "4caecc9a-1918-4f15-aceb-ef74c4e0e545",
        "colab": {
          "base_uri": "https://localhost:8080/",
          "height": 170
        }
      },
      "cell_type": "code",
      "source": [
        "# Show the Accuracy for each genre\n",
        "for i in range(len(top_genres)):\n",
        "    idxs_train = [idx for idx,a in enumerate(y_train) if a==i]\n",
        "    y_train_i = [y_train[idx] for idx in idxs_train]\n",
        "    nb_train_predict_i = [nb_train_predict[idx] for idx in idxs_train]\n",
        "    idxs_test = [idx for idx,a in enumerate(y_test) if a==i]\n",
        "    y_test_i = [y_test[idx] for idx in idxs_test]\n",
        "    nb_test_predict_i = [nb_test_predict[idx] for idx in idxs_test]\n",
        "    print('Number of Genre ',top_genres[i],' is ',len(y_train_i),', Training Accuracy is ',\\\n",
        "          sum(np.array(nb_train_predict_i)==np.array(y_train_i))/len(y_train_i),\\\n",
        "          ', Testing Accuracy is ',sum(np.array(nb_test_predict_i)==np.array(y_test_i))/len(y_test_i))"
      ],
      "execution_count": 0,
      "outputs": [
        {
          "output_type": "stream",
          "text": [
            "Number of Genre  Comedy  is  253 , Training Accuracy is  0.9802371541501976 , Testing Accuracy is  0.819672131147541\n",
            "Number of Genre  Thriller  is  59 , Training Accuracy is  0.8305084745762712 , Testing Accuracy is  0.07692307692307693\n",
            "Number of Genre  Romance  is  148 , Training Accuracy is  0.9256756756756757 , Testing Accuracy is  0.4827586206896552\n",
            "Number of Genre  Action  is  18 , Training Accuracy is  0.3888888888888889 , Testing Accuracy is  0.0\n",
            "Number of Genre  Horror  is  35 , Training Accuracy is  0.7428571428571429 , Testing Accuracy is  0.18181818181818182\n",
            "Number of Genre  Crime  is  38 , Training Accuracy is  0.7368421052631579 , Testing Accuracy is  0.0\n",
            "Number of Genre  Documentary  is  41 , Training Accuracy is  0.9024390243902439 , Testing Accuracy is  0.3\n",
            "Number of Genre  Adventure  is  49 , Training Accuracy is  0.8163265306122449 , Testing Accuracy is  0.06666666666666667\n",
            "Number of Genre  Science Fiction  is  16 , Training Accuracy is  0.25 , Testing Accuracy is  0.0\n"
          ],
          "name": "stdout"
        }
      ]
    },
    {
      "metadata": {
        "id": "F13Y-qW7NpA6",
        "colab_type": "text"
      },
      "cell_type": "markdown",
      "source": [
        "## Deep Nueral Network Model"
      ]
    },
    {
      "metadata": {
        "id": "XrGn5Gt6j4Vn",
        "colab_type": "text"
      },
      "cell_type": "markdown",
      "source": [
        "I'm not very familiar with the tensorhub, so here I just did a 3-layer fully condensed network model to do the prediction. It is coded in tensorflow."
      ]
    },
    {
      "metadata": {
        "id": "KCLXnT_iJ4FB",
        "colab_type": "code",
        "colab": {}
      },
      "cell_type": "code",
      "source": [
        "def lrelu(x, leak=0.2, name=\"lrelu\"):\n",
        "    # The function is used to construct one simple Leaky Relu layer in tensorflow\n",
        "    # Remeber to specify one unique name for one layer\n",
        "    return tf.maximum(x, leak*x)\n",
        "\n",
        "def linear(input_, output_size, scope=None, stddev=0.02, bias_start=0.0, with_w=False):\n",
        "    # The function is used to construct one simple Fully Connected layer in tensorflow\n",
        "    # Remeber to specify one unique name for one layer\n",
        "    shape = input_.get_shape().as_list()\n",
        "    with tf.variable_scope(scope or \"Linear\"):\n",
        "        matrix = tf.get_variable(\"Matrix\", [shape[1], output_size], tf.float32,\n",
        "                                 tf.random_normal_initializer(stddev=stddev))\n",
        "        bias = tf.get_variable(\"bias\", [output_size],\n",
        "            initializer=tf.constant_initializer(bias_start))\n",
        "        if with_w:\n",
        "            return tf.matmul(input_, matrix) + bias, matrix, bias\n",
        "        else:\n",
        "            return tf.matmul(input_, matrix) + bias"
      ],
      "execution_count": 0,
      "outputs": []
    },
    {
      "metadata": {
        "id": "-fNYPIKsv9Ga",
        "colab_type": "text"
      },
      "cell_type": "markdown",
      "source": [
        "###Data modification and the parameters setting."
      ]
    },
    {
      "metadata": {
        "id": "fbpy-C6oj3WH",
        "colab_type": "code",
        "colab": {}
      },
      "cell_type": "code",
      "source": [
        "y_train_onehot = np.zeros((len(y_train),9))\n",
        "y_test_onehot = np.zeros((len(y_test),9))\n",
        "\n",
        "for i in range(len(y_train)):\n",
        "    y_train_onehot[i,y_train[i]] = 1\n",
        "\n",
        "for i in range(len(y_test)):\n",
        "    y_test_onehot[i,y_test[i]] = 1\n",
        "\n",
        "num_epoch = 15\n",
        "input_size = c_train.shape[1]\n",
        "output_size = 9\n",
        "batch_size = 30"
      ],
      "execution_count": 0,
      "outputs": []
    },
    {
      "metadata": {
        "id": "ztTAIfRMwCZg",
        "colab_type": "text"
      },
      "cell_type": "markdown",
      "source": [
        "###Set up the network structure and variables."
      ]
    },
    {
      "metadata": {
        "id": "ACZ0F8hMsF7-",
        "colab_type": "code",
        "outputId": "f12df4ea-7202-45a4-9121-2062d6be4257",
        "colab": {
          "base_uri": "https://localhost:8080/",
          "height": 241
        }
      },
      "cell_type": "code",
      "source": [
        "device_name = \"/gpu:0\"\n",
        "with tf.device(device_name):\n",
        "    # Input Variable\n",
        "    x = tf.placeholder(tf.float32, shape=(batch_size, input_size))\n",
        "    y = tf.placeholder(tf.float32, shape=(batch_size, output_size))\n",
        "    y_label = tf.argmax(y, dimension=1)\n",
        "    # Networks\n",
        "    h1 = linear(x,input_size*12,scope='dense1')\n",
        "    h1 = lrelu(h1,leak=0.1,name='relu1')\n",
        "    h2 = linear(h1,input_size*12,scope='dense2')\n",
        "    h2 = lrelu(h2,leak=0.1,name='relu2')\n",
        "    h3 = linear(h2,output_size,scope='dense3')\n",
        "    output = tf.nn.sigmoid(h3)\n",
        "    predict_label = tf.argmax(output, dimension=1)\n",
        "    # Loss\n",
        "    loss = tf.reduce_mean(tf.keras.backend.binary_crossentropy(y,output),keep_dims=False)\n",
        "    # Accuracy\n",
        "    correct_prediction = tf.equal(predict_label, y_label)\n",
        "    accuracy = tf.reduce_mean(tf.cast(correct_prediction, tf.float32))"
      ],
      "execution_count": 0,
      "outputs": [
        {
          "output_type": "stream",
          "text": [
            "WARNING:tensorflow:From <ipython-input-19-5c872b2b6e71>:6: calling argmax (from tensorflow.python.ops.math_ops) with dimension is deprecated and will be removed in a future version.\n",
            "Instructions for updating:\n",
            "Use the `axis` argument instead\n"
          ],
          "name": "stdout"
        },
        {
          "output_type": "stream",
          "text": [
            "W0406 03:50:34.476244 140571099002752 deprecation.py:506] From <ipython-input-19-5c872b2b6e71>:6: calling argmax (from tensorflow.python.ops.math_ops) with dimension is deprecated and will be removed in a future version.\n",
            "Instructions for updating:\n",
            "Use the `axis` argument instead\n"
          ],
          "name": "stderr"
        },
        {
          "output_type": "stream",
          "text": [
            "WARNING:tensorflow:From /usr/local/lib/python3.6/dist-packages/tensorflow/python/framework/op_def_library.py:263: colocate_with (from tensorflow.python.framework.ops) is deprecated and will be removed in a future version.\n",
            "Instructions for updating:\n",
            "Colocations handled automatically by placer.\n"
          ],
          "name": "stdout"
        },
        {
          "output_type": "stream",
          "text": [
            "W0406 03:50:34.509139 140571099002752 deprecation.py:323] From /usr/local/lib/python3.6/dist-packages/tensorflow/python/framework/op_def_library.py:263: colocate_with (from tensorflow.python.framework.ops) is deprecated and will be removed in a future version.\n",
            "Instructions for updating:\n",
            "Colocations handled automatically by placer.\n"
          ],
          "name": "stderr"
        }
      ]
    },
    {
      "metadata": {
        "id": "_F6ZQMN9wITI",
        "colab_type": "text"
      },
      "cell_type": "markdown",
      "source": [
        "###The main training process."
      ]
    },
    {
      "metadata": {
        "id": "Q3gzSpyvPA_F",
        "colab_type": "code",
        "outputId": "37596794-2e6a-4fdf-a097-fded7a1e6fd4",
        "colab": {
          "base_uri": "https://localhost:8080/",
          "height": 292
        }
      },
      "cell_type": "code",
      "source": [
        "# The parameters for the optimization method\n",
        "lr=0.0002\n",
        "beta1=0.5\n",
        "optim = tf.train.AdamOptimizer(lr, beta1=beta1).minimize(loss)\n",
        "\n",
        "# For the batch\n",
        "batch_train_idxs = len(y_train) // batch_size\n",
        "batch_test_idxs = len(y_test) // batch_size\n",
        "batch_train_loss = batch_test_loss = batch_train_acc = batch_test_acc = 0\n",
        "\n",
        "# Train and Test Loss and Accuracy\n",
        "train_loss = []\n",
        "test_loss = []\n",
        "train_accuracy = []\n",
        "test_accuracy = []\n",
        "\n",
        "# Train the model\n",
        "with tf.Session() as sess:\n",
        "    \n",
        "    # Initalize the variables\n",
        "    sess.run(tf.global_variables_initializer())\n",
        "    \n",
        "    # Do the training process\n",
        "    for epoch in range(num_epoch):\n",
        "        \n",
        "        # Train for each batch\n",
        "        for idx in range(0, batch_train_idxs):\n",
        "            batch_data = c_train[idx * batch_size:(idx + 1) * batch_size, :]\n",
        "            batch_y = y_train_onehot[idx * batch_size:(idx + 1) * batch_size, :]\n",
        "            # Train the Networks\n",
        "            sess.run(optim, {x:batch_data, y:batch_y})\n",
        "            # Calculate the loss\n",
        "            loss_train = sess.run(loss, {x:batch_data, y:batch_y})\n",
        "            batch_train_loss += loss_train\n",
        "            # Calculate the accuracy\n",
        "            acc_train = sess.run(accuracy, {x:batch_data, y:batch_y})\n",
        "            batch_train_acc += acc_train\n",
        "        \n",
        "        # Test loss and accuracy\n",
        "        for idx in range(0, batch_test_idxs):\n",
        "            batch_data = c_test[idx * batch_size:(idx + 1) * batch_size, :]\n",
        "            batch_y = y_test_onehot[idx * batch_size:(idx + 1) * batch_size, :]\n",
        "            # Calculate the loss\n",
        "            loss_test = sess.run(loss, {x:batch_data, y:batch_y})\n",
        "            batch_test_loss += loss_test\n",
        "            # Calculate the accuracy   \n",
        "            acc_test = sess.run(accuracy, {x:batch_data, y:batch_y})\n",
        "            batch_test_acc += acc_test\n",
        "        \n",
        "        batch_train_loss /= batch_train_idxs\n",
        "        batch_test_loss /= batch_test_idxs\n",
        "        batch_train_acc /= batch_train_idxs\n",
        "        batch_test_acc /= batch_test_idxs\n",
        "        \n",
        "        train_loss.append(batch_train_loss)\n",
        "        test_loss.append(batch_test_loss)\n",
        "        train_accuracy.append(batch_train_acc)\n",
        "        test_accuracy.append(batch_test_acc)\n",
        "                \n",
        "        print('Epoch ',epoch,' averaged training loss is ',batch_train_loss,\\\n",
        "              ' averaged testing loss is ',batch_test_loss,\\\n",
        "              ' averaged testing accuracy is ',batch_test_acc)"
      ],
      "execution_count": 0,
      "outputs": [
        {
          "output_type": "stream",
          "text": [
            "Epoch  0  averaged training loss is  0.38553146592208315  averaged testing loss is  0.3702162222729789  averaged testing accuracy is  0.3777777867184745\n",
            "Epoch  1  averaged training loss is  0.09992451200477122  averaged testing loss is  0.36895167183728866  averaged testing accuracy is  0.4901234608741454\n",
            "Epoch  2  averaged training loss is  0.037894645962257154  averaged testing loss is  0.40657466909604145  averaged testing accuracy is  0.498902618353586\n",
            "Epoch  3  averaged training loss is  0.01739006045032063  averaged testing loss is  0.536061664710792  averaged testing accuracy is  0.46284104049923475\n",
            "Epoch  4  averaged training loss is  0.007758409792796732  averaged testing loss is  0.49385512761389233  averaged testing accuracy is  0.48476011958466914\n",
            "Epoch  5  averaged training loss is  0.004693838516350349  averaged testing loss is  0.5111310508429067  averaged testing accuracy is  0.4946029797822755\n",
            "Epoch  6  averaged training loss is  0.003182988834705181  averaged testing loss is  0.5297437644289495  averaged testing accuracy is  0.5068077413641802\n",
            "Epoch  7  averaged training loss is  0.0023199486252252176  averaged testing loss is  0.547696004711771  averaged testing accuracy is  0.504460122501446\n",
            "Epoch  8  averaged training loss is  0.0018096336415674191  averaged testing loss is  0.5641438806943522  averaged testing accuracy is  0.507902979444088\n",
            "Epoch  9  averaged training loss is  0.0014583264550534904  averaged testing loss is  0.5791022396186152  averaged testing accuracy is  0.5119892258986964\n",
            "Epoch  10  averaged training loss is  0.001202652260587355  averaged testing loss is  0.5928302861595502  averaged testing accuracy is  0.5124432532825419\n",
            "Epoch  11  averaged training loss is  0.0010098589673226252  averaged testing loss is  0.605218600976736  averaged testing accuracy is  0.5124937007696357\n",
            "Epoch  12  averaged training loss is  0.0008604119896381275  averaged testing loss is  0.6165352377348774  averaged testing accuracy is  0.5087956025630338\n",
            "Epoch  13  averaged training loss is  0.0007421528014884602  averaged testing loss is  0.627060720358222  averaged testing accuracy is  0.5083847027623002\n",
            "Epoch  14  averaged training loss is  0.0006469342972465449  averaged testing loss is  0.6368509309196836  averaged testing accuracy is  0.5083390472288855\n"
          ],
          "name": "stdout"
        }
      ]
    }
  ]
}