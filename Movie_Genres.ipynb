{
  "nbformat": 4,
  "nbformat_minor": 0,
  "metadata": {
    "colab": {
      "name": "Movie_Genres.ipynb",
      "version": "0.3.2",
      "provenance": [],
      "collapsed_sections": []
    },
    "kernelspec": {
      "name": "python3",
      "display_name": "Python 3"
    }
  },
  "cells": [
    {
      "metadata": {
        "id": "VmyheXVs5w_z",
        "colab_type": "text"
      },
      "cell_type": "markdown",
      "source": [
        "## Let's start with the imports"
      ]
    },
    {
      "metadata": {
        "id": "mz-fZ_6e41Ah",
        "colab_type": "code",
        "outputId": "ee3256a8-6848-4bad-eab2-d02d550c0c99",
        "colab": {
          "base_uri": "https://localhost:8080/",
          "height": 309
        }
      },
      "cell_type": "code",
      "source": [
        "import os\n",
        "import numpy as np\n",
        "import pandas as pd\n",
        "import tensorflow as tf\n",
        "import tensorflow_hub as hub\n",
        "import json\n",
        "import pickle\n",
        "import urllib\n",
        "\n",
        "from sklearn.preprocessing import MultiLabelBinarizer\n",
        "\n",
        "print(tf.__version__)\n",
        "\n",
        "# Download the data from GCS\n",
        "!wget 'https://storage.googleapis.com/movies_data/movies_metadata.csv'\n",
        "\n",
        "top_genres = ['Comedy', 'Thriller', 'Romance', 'Action', 'Horror', 'Crime', 'Documentary', 'Adventure', 'Science Fiction']\n",
        "\n",
        "data = pd.read_csv('movies_metadata.csv')\n"
      ],
      "execution_count": 0,
      "outputs": [
        {
          "output_type": "stream",
          "text": [
            "WARNING: Logging before flag parsing goes to stderr.\n",
            "W0405 04:51:42.568092 140426093991808 __init__.py:56] Some hub symbols are not available because TensorFlow version is less than 1.14\n"
          ],
          "name": "stderr"
        },
        {
          "output_type": "stream",
          "text": [
            "1.13.1\n",
            "--2019-04-05 04:51:43--  https://storage.googleapis.com/movies_data/movies_metadata.csv\n",
            "Resolving storage.googleapis.com (storage.googleapis.com)... 74.125.195.128, 2607:f8b0:400e:c08::80\n",
            "Connecting to storage.googleapis.com (storage.googleapis.com)|74.125.195.128|:443... connected.\n",
            "HTTP request sent, awaiting response... 200 OK\n",
            "Length: 34445126 (33M) [application/octet-stream]\n",
            "Saving to: ‘movies_metadata.csv.5’\n",
            "\n",
            "movies_metadata.csv 100%[===================>]  32.85M  92.9MB/s    in 0.4s    \n",
            "\n",
            "2019-04-05 04:51:44 (92.9 MB/s) - ‘movies_metadata.csv.5’ saved [34445126/34445126]\n",
            "\n"
          ],
          "name": "stdout"
        },
        {
          "output_type": "stream",
          "text": [
            "/usr/local/lib/python3.6/dist-packages/IPython/core/interactiveshell.py:2718: DtypeWarning: Columns (10) have mixed types. Specify dtype option on import or set low_memory=False.\n",
            "  interactivity=interactivity, compiler=compiler, result=result)\n"
          ],
          "name": "stderr"
        }
      ]
    },
    {
      "metadata": {
        "id": "xp2kodSRKEq6",
        "colab_type": "code",
        "outputId": "df26d066-89b6-427c-ce4d-3881f854877a",
        "colab": {
          "base_uri": "https://localhost:8080/",
          "height": 514
        }
      },
      "cell_type": "code",
      "source": [
        "print('Total number of movies: ',len(data))\n",
        "print('total number of NaN in the column genres : ',data['genres'].isnull().sum())\n",
        "print('total number of NaN in the column overview : ',data['overview'].isnull().sum())\n",
        "\n",
        "# Remove the missing values\n",
        "missing_idx = data[data['overview'].isnull()==True].index\n",
        "dat = data.drop(missing_idx)\n",
        "dat = dat.reset_index(drop=True)\n",
        "\n",
        "dat = dat[:2500] # subset like this for example\n",
        "dat.head(3)"
      ],
      "execution_count": 0,
      "outputs": [
        {
          "output_type": "stream",
          "text": [
            "Total number of movies:  45466\n",
            "total number of NaN in the column genres :  0\n",
            "total number of NaN in the column overview :  954\n"
          ],
          "name": "stdout"
        },
        {
          "output_type": "execute_result",
          "data": {
            "text/html": [
              "<div>\n",
              "<style scoped>\n",
              "    .dataframe tbody tr th:only-of-type {\n",
              "        vertical-align: middle;\n",
              "    }\n",
              "\n",
              "    .dataframe tbody tr th {\n",
              "        vertical-align: top;\n",
              "    }\n",
              "\n",
              "    .dataframe thead th {\n",
              "        text-align: right;\n",
              "    }\n",
              "</style>\n",
              "<table border=\"1\" class=\"dataframe\">\n",
              "  <thead>\n",
              "    <tr style=\"text-align: right;\">\n",
              "      <th></th>\n",
              "      <th>adult</th>\n",
              "      <th>belongs_to_collection</th>\n",
              "      <th>budget</th>\n",
              "      <th>genres</th>\n",
              "      <th>homepage</th>\n",
              "      <th>id</th>\n",
              "      <th>imdb_id</th>\n",
              "      <th>original_language</th>\n",
              "      <th>original_title</th>\n",
              "      <th>overview</th>\n",
              "      <th>...</th>\n",
              "      <th>release_date</th>\n",
              "      <th>revenue</th>\n",
              "      <th>runtime</th>\n",
              "      <th>spoken_languages</th>\n",
              "      <th>status</th>\n",
              "      <th>tagline</th>\n",
              "      <th>title</th>\n",
              "      <th>video</th>\n",
              "      <th>vote_average</th>\n",
              "      <th>vote_count</th>\n",
              "    </tr>\n",
              "  </thead>\n",
              "  <tbody>\n",
              "    <tr>\n",
              "      <th>0</th>\n",
              "      <td>False</td>\n",
              "      <td>{'id': 10194, 'name': 'Toy Story Collection', ...</td>\n",
              "      <td>30000000</td>\n",
              "      <td>[{'id': 16, 'name': 'Animation'}, {'id': 35, '...</td>\n",
              "      <td>http://toystory.disney.com/toy-story</td>\n",
              "      <td>862</td>\n",
              "      <td>tt0114709</td>\n",
              "      <td>en</td>\n",
              "      <td>Toy Story</td>\n",
              "      <td>Led by Woody, Andy's toys live happily in his ...</td>\n",
              "      <td>...</td>\n",
              "      <td>1995-10-30</td>\n",
              "      <td>373554033.0</td>\n",
              "      <td>81.0</td>\n",
              "      <td>[{'iso_639_1': 'en', 'name': 'English'}]</td>\n",
              "      <td>Released</td>\n",
              "      <td>NaN</td>\n",
              "      <td>Toy Story</td>\n",
              "      <td>False</td>\n",
              "      <td>7.7</td>\n",
              "      <td>5415.0</td>\n",
              "    </tr>\n",
              "    <tr>\n",
              "      <th>1</th>\n",
              "      <td>False</td>\n",
              "      <td>NaN</td>\n",
              "      <td>65000000</td>\n",
              "      <td>[{'id': 12, 'name': 'Adventure'}, {'id': 14, '...</td>\n",
              "      <td>NaN</td>\n",
              "      <td>8844</td>\n",
              "      <td>tt0113497</td>\n",
              "      <td>en</td>\n",
              "      <td>Jumanji</td>\n",
              "      <td>When siblings Judy and Peter discover an encha...</td>\n",
              "      <td>...</td>\n",
              "      <td>1995-12-15</td>\n",
              "      <td>262797249.0</td>\n",
              "      <td>104.0</td>\n",
              "      <td>[{'iso_639_1': 'en', 'name': 'English'}, {'iso...</td>\n",
              "      <td>Released</td>\n",
              "      <td>Roll the dice and unleash the excitement!</td>\n",
              "      <td>Jumanji</td>\n",
              "      <td>False</td>\n",
              "      <td>6.9</td>\n",
              "      <td>2413.0</td>\n",
              "    </tr>\n",
              "    <tr>\n",
              "      <th>2</th>\n",
              "      <td>False</td>\n",
              "      <td>{'id': 119050, 'name': 'Grumpy Old Men Collect...</td>\n",
              "      <td>0</td>\n",
              "      <td>[{'id': 10749, 'name': 'Romance'}, {'id': 35, ...</td>\n",
              "      <td>NaN</td>\n",
              "      <td>15602</td>\n",
              "      <td>tt0113228</td>\n",
              "      <td>en</td>\n",
              "      <td>Grumpier Old Men</td>\n",
              "      <td>A family wedding reignites the ancient feud be...</td>\n",
              "      <td>...</td>\n",
              "      <td>1995-12-22</td>\n",
              "      <td>0.0</td>\n",
              "      <td>101.0</td>\n",
              "      <td>[{'iso_639_1': 'en', 'name': 'English'}]</td>\n",
              "      <td>Released</td>\n",
              "      <td>Still Yelling. Still Fighting. Still Ready for...</td>\n",
              "      <td>Grumpier Old Men</td>\n",
              "      <td>False</td>\n",
              "      <td>6.5</td>\n",
              "      <td>92.0</td>\n",
              "    </tr>\n",
              "  </tbody>\n",
              "</table>\n",
              "<p>3 rows × 24 columns</p>\n",
              "</div>"
            ],
            "text/plain": [
              "   adult                              belongs_to_collection    budget  \\\n",
              "0  False  {'id': 10194, 'name': 'Toy Story Collection', ...  30000000   \n",
              "1  False                                                NaN  65000000   \n",
              "2  False  {'id': 119050, 'name': 'Grumpy Old Men Collect...         0   \n",
              "\n",
              "                                              genres  \\\n",
              "0  [{'id': 16, 'name': 'Animation'}, {'id': 35, '...   \n",
              "1  [{'id': 12, 'name': 'Adventure'}, {'id': 14, '...   \n",
              "2  [{'id': 10749, 'name': 'Romance'}, {'id': 35, ...   \n",
              "\n",
              "                               homepage     id    imdb_id original_language  \\\n",
              "0  http://toystory.disney.com/toy-story    862  tt0114709                en   \n",
              "1                                   NaN   8844  tt0113497                en   \n",
              "2                                   NaN  15602  tt0113228                en   \n",
              "\n",
              "     original_title                                           overview  \\\n",
              "0         Toy Story  Led by Woody, Andy's toys live happily in his ...   \n",
              "1           Jumanji  When siblings Judy and Peter discover an encha...   \n",
              "2  Grumpier Old Men  A family wedding reignites the ancient feud be...   \n",
              "\n",
              "     ...     release_date      revenue runtime  \\\n",
              "0    ...       1995-10-30  373554033.0    81.0   \n",
              "1    ...       1995-12-15  262797249.0   104.0   \n",
              "2    ...       1995-12-22          0.0   101.0   \n",
              "\n",
              "                                    spoken_languages    status  \\\n",
              "0           [{'iso_639_1': 'en', 'name': 'English'}]  Released   \n",
              "1  [{'iso_639_1': 'en', 'name': 'English'}, {'iso...  Released   \n",
              "2           [{'iso_639_1': 'en', 'name': 'English'}]  Released   \n",
              "\n",
              "                                             tagline             title  video  \\\n",
              "0                                                NaN         Toy Story  False   \n",
              "1          Roll the dice and unleash the excitement!           Jumanji  False   \n",
              "2  Still Yelling. Still Fighting. Still Ready for...  Grumpier Old Men  False   \n",
              "\n",
              "  vote_average vote_count  \n",
              "0          7.7     5415.0  \n",
              "1          6.9     2413.0  \n",
              "2          6.5       92.0  \n",
              "\n",
              "[3 rows x 24 columns]"
            ]
          },
          "metadata": {
            "tags": []
          },
          "execution_count": 2
        }
      ]
    },
    {
      "metadata": {
        "id": "XcUMPo-FJf0o",
        "colab_type": "text"
      },
      "cell_type": "markdown",
      "source": [
        "A sample of 2500 movies is selected from the original dataset. It seems that each movie could have more than one genres. We would want to check out the genres we have and reorganize them to be the target variable we could use for the prediction."
      ]
    },
    {
      "metadata": {
        "id": "dypRlkoqTmL8",
        "colab_type": "code",
        "colab": {}
      },
      "cell_type": "code",
      "source": [
        "genres = dat['genres']\n",
        "movies_genres = []\n",
        "\n",
        "for i in range(len(dat['genres'])):\n",
        "    a = genres[i].split(\"'name': \")\n",
        "    a_genres = []\n",
        "    if len(a) > 2:\n",
        "        for j in range(len(a)-1):\n",
        "            a_genres.append(a[j+1].split('},')[0].split(\"'\")[1])\n",
        "    elif len(a) == 2:\n",
        "        a_genres.append(a[1].split('},')[0].split(\"'\")[1])\n",
        "    elif len(a) == 1:\n",
        "        a_genres.append('')\n",
        "    movies_genres.append(a_genres)"
      ],
      "execution_count": 0,
      "outputs": []
    },
    {
      "metadata": {
        "id": "rayTm9tMcLox",
        "colab_type": "code",
        "outputId": "852d3c76-19b3-4c11-ff2a-aab1e3a16c27",
        "colab": {
          "base_uri": "https://localhost:8080/",
          "height": 111
        }
      },
      "cell_type": "code",
      "source": [
        "# Build a new dataframe used for the model\n",
        "new_dat_dict = {'genres':movies_genres,'summary':dat['overview'].values}\n",
        "new_dat = pd.DataFrame(new_dat_dict)\n",
        "new_dat.head(2)"
      ],
      "execution_count": 0,
      "outputs": [
        {
          "output_type": "execute_result",
          "data": {
            "text/html": [
              "<div>\n",
              "<style scoped>\n",
              "    .dataframe tbody tr th:only-of-type {\n",
              "        vertical-align: middle;\n",
              "    }\n",
              "\n",
              "    .dataframe tbody tr th {\n",
              "        vertical-align: top;\n",
              "    }\n",
              "\n",
              "    .dataframe thead th {\n",
              "        text-align: right;\n",
              "    }\n",
              "</style>\n",
              "<table border=\"1\" class=\"dataframe\">\n",
              "  <thead>\n",
              "    <tr style=\"text-align: right;\">\n",
              "      <th></th>\n",
              "      <th>genres</th>\n",
              "      <th>summary</th>\n",
              "    </tr>\n",
              "  </thead>\n",
              "  <tbody>\n",
              "    <tr>\n",
              "      <th>0</th>\n",
              "      <td>[Animation, Comedy, Family]</td>\n",
              "      <td>Led by Woody, Andy's toys live happily in his ...</td>\n",
              "    </tr>\n",
              "    <tr>\n",
              "      <th>1</th>\n",
              "      <td>[Adventure, Fantasy, Family]</td>\n",
              "      <td>When siblings Judy and Peter discover an encha...</td>\n",
              "    </tr>\n",
              "  </tbody>\n",
              "</table>\n",
              "</div>"
            ],
            "text/plain": [
              "                         genres  \\\n",
              "0   [Animation, Comedy, Family]   \n",
              "1  [Adventure, Fantasy, Family]   \n",
              "\n",
              "                                             summary  \n",
              "0  Led by Woody, Andy's toys live happily in his ...  \n",
              "1  When siblings Judy and Peter discover an encha...  "
            ]
          },
          "metadata": {
            "tags": []
          },
          "execution_count": 4
        }
      ]
    },
    {
      "metadata": {
        "id": "UMmywIwzZOEX",
        "colab_type": "code",
        "outputId": "49fd4aaa-eb80-487d-93e9-82019f74abb3",
        "colab": {
          "base_uri": "https://localhost:8080/",
          "height": 34
        }
      },
      "cell_type": "code",
      "source": [
        "# The index of the movie with empty genre\n",
        "empty_idx = [i for i,gen in enumerate(movies_genres) if gen[0]=='']\n",
        "modified_genres = []\n",
        "print('Number of Empty genre index: ',len(empty_idx))\n",
        "new_dat = new_dat.drop(empty_idx)\n",
        "new_dat = new_dat.reset_index(drop=True)"
      ],
      "execution_count": 0,
      "outputs": [
        {
          "output_type": "stream",
          "text": [
            "Number of Empty genre index:  62\n"
          ],
          "name": "stdout"
        }
      ]
    },
    {
      "metadata": {
        "id": "S7vSLdJ9W9mu",
        "colab_type": "code",
        "outputId": "d9152329-2e7e-466d-b788-2abd34cec724",
        "colab": {
          "base_uri": "https://localhost:8080/",
          "height": 54
        }
      },
      "cell_type": "code",
      "source": [
        "movies_genres = list(new_dat['genres'].values)\n",
        "# Flatten all the genres and find out the unique genres of the movies we choose\n",
        "def flatten(list):\n",
        "    for i in list:\n",
        "        for j in i:\n",
        "            yield j\n",
        "all_genres = list(flatten(movies_genres))\n",
        "\n",
        "# The unique genres of our selected sample\n",
        "print(set(all_genres))"
      ],
      "execution_count": 0,
      "outputs": [
        {
          "output_type": "stream",
          "text": [
            "{'Comedy', 'Music', 'Animation', 'Romance', 'Adventure', 'Crime', 'Thriller', 'Western', 'Foreign', 'History', 'War', 'Family', 'Drama', 'Horror', 'Science Fiction', 'TV Movie', 'Fantasy', 'Documentary', 'Mystery', 'Action'}\n"
          ],
          "name": "stdout"
        }
      ]
    },
    {
      "metadata": {
        "id": "E4WswXG_fEq6",
        "colab_type": "text"
      },
      "cell_type": "markdown",
      "source": [
        "Now, how to select the genres we want to use for the prediction task? There are two ways. The first one is to check the correlation of the occurency among the genres assigned for these movies. And then, we could combine the genres with high occurence correlations into a new genre. However, here to save the time, I would just use the Top genres provided here for the prediction task.\n",
        "\n",
        "We could take a look at a heat map for the occurence of each genres (Some genres would appear together for one movie)."
      ]
    },
    {
      "metadata": {
        "id": "bRTQdpkMeRpg",
        "colab_type": "code",
        "outputId": "749a7b75-fab7-4b1f-e82e-a01dc8e57a71",
        "colab": {
          "base_uri": "https://localhost:8080/",
          "height": 422
        }
      },
      "cell_type": "code",
      "source": [
        "import seaborn as sns\n",
        "\n",
        "# Transfer the genres to the ids\n",
        "all_genres_list = list(set(all_genres))\n",
        "id_set = [i for i,t in enumerate(all_genres_list)]\n",
        "heat_matrix = np.zeros((len(id_set), len(id_set)))\n",
        "\n",
        "# Add up the heat map matrix\n",
        "for a1 in movies_genres:\n",
        "    id = []\n",
        "    for a2 in a1:\n",
        "        id.append(all_genres_list.index(a2))\n",
        "    for i in id:\n",
        "        for j in id:\n",
        "            heat_matrix[i,j] = heat_matrix[i,j]+1\n",
        "\n",
        "# Heat map\n",
        "sns.heatmap(heat_matrix, xticklabels=all_genres_list, yticklabels=all_genres_list)"
      ],
      "execution_count": 0,
      "outputs": [
        {
          "output_type": "execute_result",
          "data": {
            "text/plain": [
              "<matplotlib.axes._subplots.AxesSubplot at 0x7fb741864f28>"
            ]
          },
          "metadata": {
            "tags": []
          },
          "execution_count": 7
        },
        {
          "output_type": "display_data",
          "data": {
            "image/png": "[encoded data removed]",
            "text/plain": [
              "<Figure size 576x396 with 2 Axes>"
            ]
          },
          "metadata": {
            "tags": []
          }
        }
      ]
    },
    {
      "metadata": {
        "id": "BLXincsti4cC",
        "colab_type": "text"
      },
      "cell_type": "markdown",
      "source": [
        "Let's modify the dataset again to keep the movies we want for the training based on the top genres we set."
      ]
    },
    {
      "metadata": {
        "id": "xe-lxu-0jwNE",
        "colab_type": "code",
        "colab": {}
      },
      "cell_type": "code",
      "source": [
        "# Select the movies with only one genre matching the Top genres we set\n",
        "new_genres = []\n",
        "\n",
        "for gens in movies_genres:\n",
        "    new_gen = [a for a in gens if a in top_genres]\n",
        "    new_genres.append(new_gen)\n",
        "    \n",
        "one_idx = [i for i,t in enumerate(new_genres) if len(t)==1 and t is not '']\n",
        "one_genre = [t[0] for i,t in enumerate(new_genres) if len(t)==1 and t is not '']"
      ],
      "execution_count": 0,
      "outputs": []
    },
    {
      "metadata": {
        "id": "lFPf0LYsQrkz",
        "colab_type": "text"
      },
      "cell_type": "markdown",
      "source": [
        "939 movies are selected here for the model building to do the prediction. The target would only have one genre. Limited to the time here, I would only deal with such a simple target response variable."
      ]
    },
    {
      "metadata": {
        "id": "e3S9gU8FMYjn",
        "colab_type": "code",
        "outputId": "ae1c5239-f0d7-4142-d926-de172b7f8b82",
        "colab": {
          "base_uri": "https://localhost:8080/",
          "height": 213
        }
      },
      "cell_type": "code",
      "source": [
        "# Add the Target Genre into the dataframe\n",
        "select_movies = new_dat.iloc[one_idx,:]\n",
        "select_movies['Target Genre'] = one_genre\n",
        "select_movies.head(2)"
      ],
      "execution_count": 0,
      "outputs": [
        {
          "output_type": "stream",
          "text": [
            "/usr/local/lib/python3.6/dist-packages/ipykernel_launcher.py:2: SettingWithCopyWarning: \n",
            "A value is trying to be set on a copy of a slice from a DataFrame.\n",
            "Try using .loc[row_indexer,col_indexer] = value instead\n",
            "\n",
            "See the caveats in the documentation: http://pandas.pydata.org/pandas-docs/stable/indexing.html#indexing-view-versus-copy\n",
            "  \n"
          ],
          "name": "stderr"
        },
        {
          "output_type": "execute_result",
          "data": {
            "text/html": [
              "<div>\n",
              "<style scoped>\n",
              "    .dataframe tbody tr th:only-of-type {\n",
              "        vertical-align: middle;\n",
              "    }\n",
              "\n",
              "    .dataframe tbody tr th {\n",
              "        vertical-align: top;\n",
              "    }\n",
              "\n",
              "    .dataframe thead th {\n",
              "        text-align: right;\n",
              "    }\n",
              "</style>\n",
              "<table border=\"1\" class=\"dataframe\">\n",
              "  <thead>\n",
              "    <tr style=\"text-align: right;\">\n",
              "      <th></th>\n",
              "      <th>genres</th>\n",
              "      <th>summary</th>\n",
              "      <th>Target Genre</th>\n",
              "    </tr>\n",
              "  </thead>\n",
              "  <tbody>\n",
              "    <tr>\n",
              "      <th>0</th>\n",
              "      <td>[Animation, Comedy, Family]</td>\n",
              "      <td>Led by Woody, Andy's toys live happily in his ...</td>\n",
              "      <td>Comedy</td>\n",
              "    </tr>\n",
              "    <tr>\n",
              "      <th>1</th>\n",
              "      <td>[Adventure, Fantasy, Family]</td>\n",
              "      <td>When siblings Judy and Peter discover an encha...</td>\n",
              "      <td>Adventure</td>\n",
              "    </tr>\n",
              "  </tbody>\n",
              "</table>\n",
              "</div>"
            ],
            "text/plain": [
              "                         genres  \\\n",
              "0   [Animation, Comedy, Family]   \n",
              "1  [Adventure, Fantasy, Family]   \n",
              "\n",
              "                                             summary Target Genre  \n",
              "0  Led by Woody, Andy's toys live happily in his ...       Comedy  \n",
              "1  When siblings Judy and Peter discover an encha...    Adventure  "
            ]
          },
          "metadata": {
            "tags": []
          },
          "execution_count": 9
        }
      ]
    },
    {
      "metadata": {
        "id": "BorEOVgxReHR",
        "colab_type": "text"
      },
      "cell_type": "markdown",
      "source": [
        "Now it is the time to modify the predict variable, whcih is the summary of the movie. The summary of the movie contains short sentences. We need to transfer these sentences into numerical vectors of wrods.\n",
        "\n",
        "To make the texts usable and meaningful, we need to do three steps. The first step is to transfer all the texts into a frequency matrix. Here I just use the naive way, which is the bag of words tech that count the appearing fequency for each word in all the summary sentences. Use the package 'CountVectorizer', we could easily do that. \n",
        "\n",
        "However, not every word is meaningful. So the second step is that we would want get rid of the words that appear too often in all the sentences and the words that appear too seldom (Too unique for each movie, might not be general when we try to train a prediction model). \n",
        "\n",
        "The third step is to give a weight indicating the importance of the word. For the meaningful words, the word appears too often would still be less important, such as 'about', 'for'. They would have a smaller weight. But in the low-frequent words, the word appears more times would be relatively important (indicate some features). We would simply apply 'TfidfTransformer' package to help us assign all the weightage."
      ]
    },
    {
      "metadata": {
        "id": "ODsoK7JmNNHE",
        "colab_type": "code",
        "colab": {}
      },
      "cell_type": "code",
      "source": [
        "from sklearn.feature_extraction.text import CountVectorizer\n",
        "from sklearn.feature_extraction.text import TfidfTransformer\n",
        "\n",
        "summaries = list(select_movies['summary'].values) # All summary contents\n",
        "vectorize=CountVectorizer(max_df=0.95, min_df=0.005) # Remove words too frequent or too seldom\n",
        "c=vectorize.fit_transform(summaries) # Modified words sparse matrix\n",
        "feature_name = vectorize.get_feature_names() # The words left text\n",
        "c_matrix = c.toarray() # The frequency matrix"
      ],
      "execution_count": 0,
      "outputs": []
    },
    {
      "metadata": {
        "id": "DlB1ua04B2--",
        "colab_type": "text"
      },
      "cell_type": "markdown",
      "source": [
        "Before we assign the weight for the words, we would want to do a word stemming. Because it is very common that different variations of the same word get counted as seperate words. We would want to combine them so that we could condense the information to extract features."
      ]
    },
    {
      "metadata": {
        "id": "JcYw4ZWR6aBG",
        "colab_type": "code",
        "colab": {}
      },
      "cell_type": "code",
      "source": [
        "feature_name\n",
        "c_matrix.sum(axis=1)"
      ],
      "execution_count": 0,
      "outputs": []
    }
  ]
}